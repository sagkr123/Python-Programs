{
 "cells": [
  {
   "cell_type": "code",
   "execution_count": 6,
   "id": "18b268f5",
   "metadata": {},
   "outputs": [
    {
     "name": "stdout",
     "output_type": "stream",
     "text": [
      "enter the no rows5\n",
      "*\n",
      "**\n",
      "***\n",
      "****\n",
      "*****\n"
     ]
    }
   ],
   "source": [
    "#Traingle \n",
    "n = int (input(\"enter the no rows\"))\n",
    "for i in range(0,n):\n",
    "    for j in range(0,i+1):\n",
    "        print(\"*\", end ='')\n",
    "    print()"
   ]
  },
  {
   "cell_type": "code",
   "execution_count": 7,
   "id": "f83e7e2f",
   "metadata": {},
   "outputs": [
    {
     "name": "stdout",
     "output_type": "stream",
     "text": [
      "Fibonacci Series : 0 1 1 2 3 5 8 13 21 34 "
     ]
    }
   ],
   "source": [
    "# Fibonacci Series\n",
    "#Fn = F n-1 + F n-2.......\n",
    "#Adding previous number\n",
    "#First we need F0=0,F1=1 Compulsary\n",
    "\n",
    "num = 10\n",
    "n1,n2 = 0,1\n",
    "print(\"Fibonacci Series :\", n1 , n2, end=' ')\n",
    "for i in range(2,num):\n",
    "    n3 = n1 + n2\n",
    "    n1 = n2\n",
    "    n2 = n3\n",
    "    print(n3, end=' ')\n",
    "   \n",
    "\n"
   ]
  },
  {
   "cell_type": "code",
   "execution_count": 5,
   "id": "f1c2621f",
   "metadata": {},
   "outputs": [
    {
     "name": "stdout",
     "output_type": "stream",
     "text": [
      "Enter The First No 10\n",
      "Enter The Second No 82\n",
      "the gcd 10 and 82 is 2\n"
     ]
    }
   ],
   "source": [
    "#Gcd Of Two Numbers\n",
    "# 4/8 Which One Divides Highiest Number Like 1,2,4,\n",
    "def gcd(a,b):\n",
    "    if b == 0:\n",
    "        return a\n",
    "    else:\n",
    "        return gcd(b,a %b)\n",
    "num1 =int(input(\"Enter The First No \"))\n",
    "num2 =int(input(\"Enter The Second No \"))\n",
    "rest = gcd(num1,num2)\n",
    "print(\"the gcd\",num1,\"and\",num2,\"is\",rest)"
   ]
  },
  {
   "cell_type": "code",
   "execution_count": 18,
   "id": "9a7357e8",
   "metadata": {},
   "outputs": [
    {
     "name": "stdout",
     "output_type": "stream",
     "text": [
      "The sum of the program is: 682.0\n"
     ]
    }
   ],
   "source": [
    "#Geometric Progression (GP) Sum Formula\n",
    "#a,ar,ar^2,ar^3....\n",
    "#a-First Term\n",
    "#r-Common Ratio Always r == 1\n",
    "#FOrmula sum = a * (1 - r ** t) / (1 - r)\n",
    "def geometric(a, r, t):\n",
    "    if r == 1:\n",
    "        return a * t\n",
    "    else:\n",
    "        sum = a * (1 - r ** t) / (1 - r)\n",
    "        return sum\n",
    "\n",
    "a = 2\n",
    "r = 4\n",
    "t = 5\n",
    "\n",
    "sum = geometric(a, r, t)\n",
    "print(f\"The sum of the program is: {sum}\")\n"
   ]
  },
  {
   "cell_type": "code",
   "execution_count": 20,
   "id": "b74e6f42",
   "metadata": {},
   "outputs": [
    {
     "name": "stdout",
     "output_type": "stream",
     "text": [
      "the no of : 162\n"
     ]
    }
   ],
   "source": [
    "#Nth Term Of Gp Series\n",
    "#a-First Term\n",
    "#r-Common Ratio\n",
    "#n-N Term Number\n",
    "def n_term(a,r,n):\n",
    "    if n<=1:\n",
    "        raise ValueError(\"only positive (n>1=1)\")\n",
    "    term = a *(r ** (n-1))\n",
    "    return term\n",
    "a = 2\n",
    "r = 3\n",
    "n = 5\n",
    "sum = n_term(a, r, n)\n",
    "print(f\"The {n}th : {sum}\")\n",
    "    "
   ]
  },
  {
   "cell_type": "code",
   "execution_count": null,
   "id": "259329b9",
   "metadata": {},
   "outputs": [],
   "source": [
    "def n_term(a, r, n):\n",
    "    if n <= 1:\n",
    "        raise ValueError(\"n must be greater than 1\")\n",
    "    term = a * (r ** (n - 1))\n",
    "    return term\n",
    "\n",
    "# Given values\n",
    "a = 2\n",
    "r = 3\n",
    "n = 5\n",
    "\n",
    "# Calculate the nth term using the n_term function\n",
    "term = n_term(a, r, n)\n",
    "\n",
    "# Print the result using formatted string\n",
    "print(f\"The {n}th term of the geometric sequence is: {term}\")\n"
   ]
  }
 ],
 "metadata": {
  "kernelspec": {
   "display_name": "Python 3 (ipykernel)",
   "language": "python",
   "name": "python3"
  },
  "language_info": {
   "codemirror_mode": {
    "name": "ipython",
    "version": 3
   },
   "file_extension": ".py",
   "mimetype": "text/x-python",
   "name": "python",
   "nbconvert_exporter": "python",
   "pygments_lexer": "ipython3",
   "version": "3.10.9"
  }
 },
 "nbformat": 4,
 "nbformat_minor": 5
}
